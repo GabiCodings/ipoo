{
 "cells": [
  {
   "cell_type": "markdown",
   "id": "8de3d807",
   "metadata": {},
   "source": [
    "## MVC\n",
    "\n",
    "Vamos transformar passo-a-passo os trecho de código do programa abaixo em um programa escrito segundo a arquitetura MVC. Esse processo é chamado de `refatoração`\n",
    "\n",
    "> `refatoração` é a redistribuição de um programa em `fatores` diferentes, ou seja, em `partes diferentes`.\n",
    "\n",
    "Para isso, vamos:\n",
    "\n",
    "1. transformar o código de cadastro de livro em um função\n",
    "    - como essa função afeta os dados do programa, ela faz parte da Model\n",
    "1. retirar da função o código que é de responsabilidade da View\n",
    "1. retirar da função o código que é de responsabilidade do Controller\n",
    "1. escrever um trecho de código (Controller) que usará a View e a Model para executar o cadastro de livros"
   ]
  },
  {
   "cell_type": "markdown",
   "id": "a9448dd0",
   "metadata": {},
   "source": [
    "## Inicialização dos dados da Model"
   ]
  },
  {
   "cell_type": "markdown",
   "id": "bfbfed86",
   "metadata": {},
   "source": [
    "Nossa model é uma list. \n",
    "Poderia ser um banco de dados\n",
    "ou um arquivo..."
   ]
  },
  {
   "cell_type": "code",
   "execution_count": null,
   "id": "88bf3208",
   "metadata": {},
   "outputs": [],
   "source": [
    "livros = [\n",
    "    \"DOM CASMURRO\",\n",
    "    \"O GUARANI\",\n",
    "    \"MEMÓRIAS PÓSTUMAS DE BRÁS CUBAS\",\n",
    "    \"A MORENINHA\",\n",
    "    \"VIDAS SECAS\",\n",
    "    \"O CORTIÇO\",\n",
    "    \"CAPITÃES DA AREIA\",\n",
    "    \"A HORA DA ESTRELA\",\n",
    "    \"IRACEMA\",\n",
    "    \"O PRIMO BASÍLIO\"\n",
    "]"
   ]
  },
  {
   "cell_type": "markdown",
   "id": "cc8242ac",
   "metadata": {},
   "source": [
    "## Código original\n",
    "\n",
    "Este é o código que faz o cadastro. Ele executa funções de Model, View e Controller sem distinção."
   ]
  },
  {
   "cell_type": "markdown",
   "id": "ba7af0d4",
   "metadata": {},
   "source": [
    "A *sequência* em si deste programa\n",
    "estaria codificada no `Controller`\n",
    "que é a parte do sistema\n",
    "que \"orquestra\" as operações\n",
    "necessárias (de `View` e `Model`)\n",
    "para a realização de um Use Case.\n"
   ]
  },
  {
   "cell_type": "code",
   "execution_count": null,
   "id": "ab160724",
   "metadata": {},
   "outputs": [],
   "source": [
    "livro_novo = input(\"Digite nome do livro: \").upper() # Pedido à View\n",
    "\n",
    "# Controller decidindo o que fazer\n",
    "if livro_novo not in livros:  # Acesso à model\n",
    "    livros.append(livro_novo) # Acesso à model\n",
    "else:\n",
    "    print(\"Livro já cadastrado\") # Pedido à View\n",
    "\n",
    "print(list(reversed(livros))) # # Pedido à View"
   ]
  },
  {
   "cell_type": "markdown",
   "id": "a3513b49",
   "metadata": {},
   "source": [
    "## Refatorando para MVC"
   ]
  },
  {
   "cell_type": "markdown",
   "id": "1ee14f81",
   "metadata": {},
   "source": [
    "Primeiro precisamos transformar o código de cadastro em uma função."
   ]
  },
  {
   "cell_type": "code",
   "execution_count": null,
   "id": "aaab6f04",
   "metadata": {},
   "outputs": [],
   "source": [
    "def cadastrar_livro():\n",
    "    livro_novo = input(\"Digite nome do livro: \").upper()\n",
    "\n",
    "    if livro_novo not in livros:\n",
    "        livros.append(livro_novo)\n",
    "    else:\n",
    "        print(\"Livro já cadastrado\")\n",
    "\n",
    "    print(list(reversed(livros))) "
   ]
  }
 ],
 "metadata": {
  "kernelspec": {
   "display_name": "Python 3",
   "language": "python",
   "name": "python3"
  },
  "language_info": {
   "codemirror_mode": {
    "name": "ipython",
    "version": 3
   },
   "file_extension": ".py",
   "mimetype": "text/x-python",
   "name": "python",
   "nbconvert_exporter": "python",
   "pygments_lexer": "ipython3",
   "version": "3.13.2"
  }
 },
 "nbformat": 4,
 "nbformat_minor": 5
}
